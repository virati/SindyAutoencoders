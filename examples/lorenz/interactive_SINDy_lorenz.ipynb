{
 "cells": [
  {
   "cell_type": "markdown",
   "metadata": {},
   "source": [
    "# SINDy for neural inference\n",
    "## Examples in Lorenz Systems\n",
    "\n",
    "\n",
    "### Introduction\n",
    "We start with the general form of the Lorenz system (code built on [ipywidgets Lorenz example](https://github.com/jupyter-widgets/ipywidgets/blob/80921ac9f9a18c43b02918ce3913818c188ae34c/docs/source/examples/Lorenz%20Differential%20Equations.ipynb)).\n",
    "\n",
    "$$\n",
    "\\begin{aligned}\n",
    "\\dot{x} & = \\sigma(y-x) \\\\\n",
    "\\dot{y} & = \\rho x - y - xz \\\\\n",
    "\\dot{z} & = -\\beta z + xy\n",
    "\\end{aligned}\n",
    "$$\n",
    "\n",
    "Our parameters of interest are: (\\\\(\\sigma\\\\), \\\\(\\beta\\\\), \\\\(\\rho\\\\))"
   ]
  },
  {
   "cell_type": "markdown",
   "metadata": {},
   "source": [
    "#### Imports"
   ]
  },
  {
   "cell_type": "code",
   "execution_count": 1,
   "metadata": {},
   "outputs": [],
   "source": [
    "import sys\n",
    "sys.path.append(\"../../src\")\n",
    "import os\n",
    "import numpy as np\n",
    "import pickle\n",
    "import pandas as pd\n",
    "\n",
    "#Import SINDy specific libraries\n",
    "from example_lorenz import get_lorenz_data, generate_lorenz_data\n",
    "from autoencoder import full_network\n",
    "from training import create_feed_dictionary\n",
    "from sindy_utils import sindy_simulate\n",
    "import tensorflow as tf\n",
    "from training import train_network\n",
    "from sindy_utils import library_size\n",
    "\n",
    "from scipy import integrate\n",
    "\n",
    "# Import our basic plotting libraries\n",
    "import matplotlib.pyplot as plt\n",
    "from mpl_toolkits.mplot3d import Axes3D\n",
    "from matplotlib.colors import cnames\n",
    "from matplotlib import animation\n",
    "\n",
    "# Import our jupyter widgets\n",
    "from ipywidgets import interact, interactive, fixed\n",
    "from IPython.display import clear_output, display, HTML\n",
    "\n",
    "%matplotlib inline"
   ]
  },
  {
   "cell_type": "markdown",
   "metadata": {},
   "source": [
    "#### Preliminary SINDy setup"
   ]
  },
  {
   "cell_type": "code",
   "execution_count": 2,
   "metadata": {},
   "outputs": [
    {
     "name": "stdout",
     "output_type": "stream",
     "text": [
      "WARNING:tensorflow:From ../../src/autoencoder.py:27: The name tf.placeholder is deprecated. Please use tf.compat.v1.placeholder instead.\n",
      "\n",
      "WARNING:tensorflow:From ../../src/autoencoder.py:193: The name tf.get_variable is deprecated. Please use tf.compat.v1.get_variable instead.\n",
      "\n",
      "WARNING:tensorflow:\n",
      "The TensorFlow contrib module will not be included in TensorFlow 2.0.\n",
      "For more information, please see:\n",
      "  * https://github.com/tensorflow/community/blob/master/rfcs/20180907-contrib-sunset.md\n",
      "  * https://github.com/tensorflow/addons\n",
      "  * https://github.com/tensorflow/io (for I/O related ops)\n",
      "If you depend on functionality not listed there, please file an issue.\n",
      "\n"
     ]
    }
   ],
   "source": [
    "data_path = os.getcwd() + '/'\n",
    "save_name = 'model1'\n",
    "params = pickle.load(open(data_path + save_name + '_params.pkl', 'rb'))\n",
    "params['save_name'] = data_path + save_name\n",
    "\n",
    "autoencoder_network = full_network(params)\n",
    "learning_rate = tf.placeholder(tf.float32, name='learning_rate')\n",
    "saver = tf.train.Saver(var_list=tf.get_collection(tf.GraphKeys.GLOBAL_VARIABLES))\n",
    "\n",
    "tensorflow_run_tuple = ()\n",
    "for key in autoencoder_network.keys():\n",
    "    tensorflow_run_tuple += (autoencoder_network[key],)"
   ]
  },
  {
   "cell_type": "markdown",
   "metadata": {},
   "source": [
    "### Setting up our example"
   ]
  },
  {
   "cell_type": "code",
   "execution_count": 3,
   "metadata": {},
   "outputs": [],
   "source": [
    "def solve_lorenz(N=10, angle=0.0, max_time=4.0, sigma=10.0, beta=8./3, rho=28.0):\n",
    "\n",
    "    def lorenz_deriv(x_y_z, t0, sigma=sigma, beta=beta, rho=rho):\n",
    "        \"\"\"Compute the time-derivative of a Lorenz system.\"\"\"\n",
    "        x, y, z = x_y_z\n",
    "        return [sigma * (y - x), x * (rho - z) - y, x * y - beta * z]\n",
    "\n",
    "    # Choose random starting points, uniformly distributed from -15 to 15\n",
    "    np.random.seed(1)\n",
    "    x0 = -15 + 30 * np.random.random((N, 3))\n",
    "\n",
    "    # Solve for the trajectories\n",
    "    t = np.linspace(0, max_time, int(250*max_time))\n",
    "    x_t = np.asarray([integrate.odeint(lorenz_deriv, x0i, t)\n",
    "                      for x0i in x0])\n",
    "    \n",
    "    return t, x_t\n",
    "\n",
    "def plot_lorenz(N=10, angle=0.0, max_time=4.0, sigma=10.0, beta=8./3, rho=28.0):\n",
    "    fig = plt.figure()\n",
    "    ax = fig.add_axes([0, 0, 1, 1], projection='3d')\n",
    "    ax.axis('off')\n",
    "\n",
    "    t,x_t = solve_lorenz(N,angle,max_time,sigma,beta,rho)\n",
    "    # prepare the axes limits\n",
    "    ax.set_xlim((-25, 25))\n",
    "    ax.set_ylim((-35, 35))\n",
    "    ax.set_zlim((5, 55))\n",
    "    \n",
    "    # choose a different color for each trajectory\n",
    "    colors = plt.cm.viridis(np.linspace(0, 1, N))\n",
    "\n",
    "    for i in range(N):\n",
    "        x, y, z = x_t[i,:,:].T\n",
    "        lines = ax.plot(x, y, z, '-', c=colors[i])\n",
    "        plt.setp(lines, linewidth=2)\n",
    "\n",
    "    ax.view_init(30, angle)\n",
    "    plt.show()\n",
    "    \n",
    "    return t,x_t"
   ]
  },
  {
   "cell_type": "markdown",
   "metadata": {},
   "source": [
    "<a id='choose_coeffs'></a>\n",
    "#### Choosing our ground-truth model\n",
    "\n",
    "Now we're going to select the coefficients for our specific system"
   ]
  },
  {
   "cell_type": "code",
   "execution_count": 4,
   "metadata": {},
   "outputs": [
    {
     "data": {
      "application/vnd.jupyter.widget-view+json": {
       "model_id": "70bc37a474a2413fa6b812653c84dacc",
       "version_major": 2,
       "version_minor": 0
      },
      "text/plain": [
       "interactive(children=(FloatSlider(value=0.0, description='angle', max=360.0), FloatSlider(value=10.0, descript…"
      ]
     },
     "metadata": {},
     "output_type": "display_data"
    }
   ],
   "source": [
    "w = interactive(plot_lorenz, angle=(0.,360.), max_time=fixed(4.0), \n",
    "                N=fixed(10), sigma=(-2.0,50.0), rho=(0.0,50.0))\n",
    "display(w)"
   ]
  },
  {
   "cell_type": "markdown",
   "metadata": {},
   "source": [
    "Now that we have a specific dynamics set from our parameters *and* a trajectory from a simulated experiment, we can use SINDy to try to infer the parameters of our system.\n"
   ]
  },
  {
   "cell_type": "code",
   "execution_count": 5,
   "metadata": {},
   "outputs": [],
   "source": [
    "sigma = w.children[1].value\n",
    "beta = w.children[2].value\n",
    "rho = w.children[3].value"
   ]
  },
  {
   "cell_type": "code",
   "execution_count": 6,
   "metadata": {},
   "outputs": [
    {
     "data": {
      "text/plain": [
       "<matplotlib.legend.Legend at 0x7f2c0c256e10>"
      ]
     },
     "execution_count": 6,
     "metadata": {},
     "output_type": "execute_result"
    },
    {
     "data": {
      "image/png": "[encoded data removed]",
      "text/plain": [
       "<Figure size 432x288 with 1 Axes>"
      ]
     },
     "metadata": {
      "needs_background": "light"
     },
     "output_type": "display_data"
    }
   ],
   "source": [
    "t = w.result[0]\n",
    "x_t = w.result[1]\n",
    "plt.figure()\n",
    "plt.plot(t,x_t[0,:,0],label='x')\n",
    "plt.plot(t,x_t[0,:,1],label='y')\n",
    "plt.plot(t,x_t[0,:,2],label='z')\n",
    "plt.legend()"
   ]
  },
  {
   "cell_type": "markdown",
   "metadata": {},
   "source": [
    "# Enter SINDy-based inference"
   ]
  },
  {
   "cell_type": "markdown",
   "metadata": {},
   "source": [
    "The above comes from the notebook provided by Champion et al, but we have to go in and modify the coefficient mask to reflect the coefficients we selected above in [the above section](#choose_coeffs). For this we have to understand the *basis* of the coefficient_mask variable so we can appropriately repopulate it."
   ]
  },
  {
   "cell_type": "markdown",
   "metadata": {},
   "source": [
    "#### Train our model"
   ]
  },
  {
   "cell_type": "code",
   "execution_count": 7,
   "metadata": {},
   "outputs": [],
   "source": [
    "# generate training, validation, testing data\n",
    "noise_strength = 1e-6\n",
    "training_data = get_lorenz_data(1024, noise_strength=noise_strength,sigma=sigma,beta=beta,rho=rho)\n",
    "validation_data = get_lorenz_data(20, noise_strength=noise_strength,sigma=sigma,beta=beta,rho=rho)"
   ]
  },
  {
   "cell_type": "code",
   "execution_count": 8,
   "metadata": {
    "jupyter": {
     "source_hidden": true
    }
   },
   "outputs": [],
   "source": [
    "params = {}\n",
    "\n",
    "params['input_dim'] = 128\n",
    "params['latent_dim'] = 3\n",
    "params['model_order'] = 1\n",
    "params['poly_order'] = 3\n",
    "params['include_sine'] = False\n",
    "params['library_dim'] = library_size(params['latent_dim'], params['poly_order'], params['include_sine'], True)\n",
    "\n",
    "# sequential thresholding parameters\n",
    "params['sequential_thresholding'] = True\n",
    "params['coefficient_threshold'] = 0.1\n",
    "params['threshold_frequency'] = 500\n",
    "params['coefficient_mask'] = np.ones((params['library_dim'], params['latent_dim']))\n",
    "params['coefficient_initialization'] = 'constant'\n",
    "\n",
    "# loss function weighting\n",
    "params['loss_weight_decoder'] = 1.0\n",
    "params['loss_weight_sindy_z'] = 0.0\n",
    "params['loss_weight_sindy_x'] = 1e-4\n",
    "params['loss_weight_sindy_regularization'] = 1e-5\n",
    "\n",
    "params['activation'] = 'sigmoid'\n",
    "params['widths'] = [64,32]\n",
    "\n",
    "# training parameters\n",
    "params['epoch_size'] = training_data['x'].shape[0]\n",
    "params['batch_size'] = 1024\n",
    "params['learning_rate'] = 1e-3\n",
    "\n",
    "params['data_path'] = os.getcwd() + '/'\n",
    "params['print_progress'] = True\n",
    "params['print_frequency'] = 100\n",
    "\n",
    "# training time cutoffs\n",
    "params['max_epochs'] = 5001\n",
    "params['refinement_epochs'] = 1001"
   ]
  },
  {
   "cell_type": "code",
   "execution_count": 9,
   "metadata": {},
   "outputs": [
    {
     "ename": "NameError",
     "evalue": "name 'pd' is not defined",
     "output_type": "error",
     "traceback": [
      "\u001b[0;31m---------------------------------------------------------------------------\u001b[0m",
      "\u001b[0;31mNameError\u001b[0m                                 Traceback (most recent call last)",
      "\u001b[0;32m<ipython-input-9-cf42364d58c5>\u001b[0m in \u001b[0;36m<module>\u001b[0;34m\u001b[0m\n\u001b[1;32m      1\u001b[0m \u001b[0mnum_experiments\u001b[0m \u001b[0;34m=\u001b[0m \u001b[0;36m1\u001b[0m\u001b[0;34m\u001b[0m\u001b[0;34m\u001b[0m\u001b[0m\n\u001b[0;32m----> 2\u001b[0;31m \u001b[0mdf\u001b[0m \u001b[0;34m=\u001b[0m \u001b[0mpd\u001b[0m\u001b[0;34m.\u001b[0m\u001b[0mDataFrame\u001b[0m\u001b[0;34m(\u001b[0m\u001b[0;34m)\u001b[0m\u001b[0;34m\u001b[0m\u001b[0;34m\u001b[0m\u001b[0m\n\u001b[0m\u001b[1;32m      3\u001b[0m \u001b[0;32mfor\u001b[0m \u001b[0mi\u001b[0m \u001b[0;32min\u001b[0m \u001b[0mrange\u001b[0m\u001b[0;34m(\u001b[0m\u001b[0mnum_experiments\u001b[0m\u001b[0;34m)\u001b[0m\u001b[0;34m:\u001b[0m\u001b[0;34m\u001b[0m\u001b[0;34m\u001b[0m\u001b[0m\n\u001b[1;32m      4\u001b[0m     \u001b[0mprint\u001b[0m\u001b[0;34m(\u001b[0m\u001b[0;34m'EXPERIMENT %d'\u001b[0m \u001b[0;34m%\u001b[0m \u001b[0mi\u001b[0m\u001b[0;34m)\u001b[0m\u001b[0;34m\u001b[0m\u001b[0;34m\u001b[0m\u001b[0m\n\u001b[1;32m      5\u001b[0m \u001b[0;34m\u001b[0m\u001b[0m\n",
      "\u001b[0;31mNameError\u001b[0m: name 'pd' is not defined"
     ]
    }
   ],
   "source": [
    "num_experiments = 1\n",
    "df = pd.DataFrame()\n",
    "for i in range(num_experiments):\n",
    "    print('EXPERIMENT %d' % i)\n",
    "\n",
    "    params['coefficient_mask'] = np.ones((params['library_dim'], params['latent_dim']))\n",
    "\n",
    "    params['save_name'] = 'lorenz_' + datetime.datetime.now().strftime(\"%Y_%m_%d_%H_%M_%S_%f\")\n",
    "\n",
    "    tf.reset_default_graph()\n",
    "\n",
    "    results_dict = train_network(training_data, validation_data, params)\n",
    "    df = df.append({**results_dict, **params}, ignore_index=True)\n",
    "\n",
    "df.to_pickle('experiment_results_' + datetime.datetime.now().strftime(\"%Y%m%d%H%M\") + '.pkl')"
   ]
  },
  {
   "cell_type": "markdown",
   "metadata": {},
   "source": [
    "## Single trajectory plots"
   ]
  },
  {
   "cell_type": "code",
   "execution_count": null,
   "metadata": {},
   "outputs": [],
   "source": [
    "t = np.arange(0,20,.01)\n",
    "z0 = np.array([[-8,7,27]])\n",
    "\n",
    "test_data = generate_lorenz_data(z0, t, params['input_dim'], linear=False, normalization=np.array([1/40,1/40,1/40]),sigma=sigma,rho=rho,beta=beta)\n",
    "test_data['x'] = test_data['x'].reshape((-1,params['input_dim']))\n",
    "test_data['dx'] = test_data['dx'].reshape((-1,params['input_dim']))\n",
    "test_data['z'] = test_data['z'].reshape((-1,params['latent_dim']))\n",
    "test_data['dz'] = test_data['dz'].reshape((-1,params['latent_dim']))"
   ]
  },
  {
   "cell_type": "code",
   "execution_count": null,
   "metadata": {},
   "outputs": [],
   "source": [
    "fig = plt.figure()\n",
    "ax1 = fig.add_subplot(111, projection='3d')\n",
    "gdata = test_data['z']\n",
    "ax1.plot(gdata[:,0], gdata[:,1], gdata[:,2], linewidth=2)"
   ]
  },
  {
   "cell_type": "code",
   "execution_count": null,
   "metadata": {},
   "outputs": [],
   "source": [
    "with tf.Session() as sess:\n",
    "    sess.run(tf.global_variables_initializer())\n",
    "    saver.restore(sess, data_path + save_name)\n",
    "    test_dictionary = create_feed_dictionary(test_data, params)\n",
    "    tf_results = sess.run(tensorflow_run_tuple, feed_dict=test_dictionary)\n",
    "\n",
    "test_set_results = {}\n",
    "for i,key in enumerate(autoencoder_network.keys()):\n",
    "    test_set_results[key] = tf_results[i]"
   ]
  },
  {
   "cell_type": "code",
   "execution_count": null,
   "metadata": {},
   "outputs": [],
   "source": [
    "a1 = 1\n",
    "a2 = test_data['sindy_coefficients'][2,0]/test_set_results['sindy_coefficients'][2,0]\n",
    "a3 = np.sqrt(-test_set_results['sindy_coefficients'][5,2]/test_set_results['sindy_coefficients'][6,1]*a2**2)\n",
    "b3 = -test_set_results['sindy_coefficients'][0,2]/test_set_results['sindy_coefficients'][3,2]\n",
    "\n",
    "sindy_coefficients_transformed = np.zeros(test_set_results['sindy_coefficients'].shape)\n",
    "sindy_coefficients_transformed[1,0] = test_set_results['sindy_coefficients'][1,0]\n",
    "sindy_coefficients_transformed[2,0] = test_set_results['sindy_coefficients'][2,0]*a2/a1\n",
    "sindy_coefficients_transformed[1,1] = test_set_results['sindy_coefficients'][6,1]*a1/a2*b3\n",
    "sindy_coefficients_transformed[2,1] = test_set_results['sindy_coefficients'][2,1]\n",
    "sindy_coefficients_transformed[6,1] = test_set_results['sindy_coefficients'][6,1]*a1*a3/a2\n",
    "sindy_coefficients_transformed[3,2] = test_set_results['sindy_coefficients'][3,2]\n",
    "sindy_coefficients_transformed[5,2] = test_set_results['sindy_coefficients'][5,2]*a1*a2/a3\n",
    "\n",
    "z0_transformed = np.array([test_set_results['z'][0,0]/a1,\n",
    "                           test_set_results['z'][0,1]/a2,\n",
    "                           (test_set_results['z'][0,2] - b3)/a3])"
   ]
  },
  {
   "cell_type": "code",
   "execution_count": null,
   "metadata": {},
   "outputs": [],
   "source": [
    "lorenz_sim = sindy_simulate(test_data['z'][0], t, test_data['sindy_coefficients'],\n",
    "                            params['poly_order'], params['include_sine'])\n",
    "\n",
    "z_sim = sindy_simulate(test_set_results['z'][0], t, params['coefficient_mask']*test_set_results['sindy_coefficients'],\n",
    "                       params['poly_order'], params['include_sine'])\n",
    "\n",
    "z_sim_transformed = sindy_simulate(z0_transformed, t, sindy_coefficients_transformed,\n",
    "                                   params['poly_order'], params['include_sine'])"
   ]
  },
  {
   "cell_type": "markdown",
   "metadata": {},
   "source": [
    "## Plotting"
   ]
  },
  {
   "cell_type": "code",
   "execution_count": null,
   "metadata": {},
   "outputs": [],
   "source": [
    "fig1 = plt.figure(figsize=(3,3))\n",
    "ax1 = fig1.add_subplot(111, projection='3d')\n",
    "ax1.plot(z_sim[:,0], z_sim[:,1], z_sim[:,2], linewidth=2)\n",
    "plt.axis('off')\n",
    "ax1.view_init(azim=120)\n",
    "\n",
    "fig2 = plt.figure(figsize=(3,3))\n",
    "ax2 = fig2.add_subplot(111, projection='3d')\n",
    "ax2.plot(z_sim_transformed[:,0], z_sim_transformed[:,1], z_sim_transformed[:,2], linewidth=2)\n",
    "plt.axis('off')\n",
    "ax2.view_init(azim=120)\n",
    "\n",
    "fig3 = plt.figure(figsize=(3,3))\n",
    "ax3 = fig3.add_subplot(111, projection='3d')\n",
    "ax3.plot(lorenz_sim[:,0], lorenz_sim[:,1], lorenz_sim[:,2], linewidth=2)\n",
    "plt.xticks([])\n",
    "plt.axis('off')\n",
    "ax3.view_init(azim=120)"
   ]
  },
  {
   "cell_type": "code",
   "execution_count": null,
   "metadata": {},
   "outputs": [],
   "source": [
    "plt.figure(figsize=(3,3))\n",
    "for i in range(3):\n",
    "    plt.subplot(3,1,i+1)\n",
    "    plt.plot(t, test_set_results['z'][:,i], color='#888888', linewidth=2)\n",
    "    plt.plot(t, z_sim[:,i], '--', linewidth=2)\n",
    "    plt.xticks([])\n",
    "    plt.yticks([])\n",
    "    plt.axis('off')"
   ]
  },
  {
   "cell_type": "code",
   "execution_count": null,
   "metadata": {},
   "outputs": [],
   "source": [
    "Xi_plot = (params['coefficient_mask']*test_set_results['sindy_coefficients'])\n",
    "Xi_plot[Xi_plot==0] = np.inf\n",
    "plt.figure(figsize=(1,2))\n",
    "plt.imshow(Xi_plot, interpolation='none')\n",
    "plt.xticks([])\n",
    "plt.yticks([])\n",
    "plt.axis('off')\n",
    "plt.clim([-10,30])\n",
    "\n",
    "Xi_transformed_plot = np.copy(sindy_coefficients_transformed)\n",
    "Xi_transformed_plot[Xi_transformed_plot==0] = np.inf\n",
    "plt.figure(figsize=(1,2))\n",
    "plt.imshow(Xi_transformed_plot, interpolation='none')\n",
    "plt.xticks([])\n",
    "plt.yticks([])\n",
    "plt.axis('off')\n",
    "plt.clim([-10,30])\n",
    "\n",
    "Xi_true_plot = np.copy(test_data['sindy_coefficients'])\n",
    "Xi_true_plot[Xi_true_plot==0] = np.inf\n",
    "Xi_true_plot[6,1] = -1.\n",
    "Xi_true_plot[5,2] = 1.\n",
    "plt.figure(figsize=(1,2))\n",
    "plt.imshow(Xi_true_plot, interpolation='none')\n",
    "plt.xticks([])\n",
    "plt.yticks([])\n",
    "plt.axis('off')\n",
    "plt.clim([-10,30])"
   ]
  },
  {
   "cell_type": "markdown",
   "metadata": {},
   "source": [
    "## Test set analysis - in distribution"
   ]
  },
  {
   "cell_type": "code",
   "execution_count": null,
   "metadata": {},
   "outputs": [],
   "source": [
    "test_data = get_lorenz_data(100, noise_strength=1e-6)"
   ]
  },
  {
   "cell_type": "code",
   "execution_count": null,
   "metadata": {},
   "outputs": [],
   "source": [
    "with tf.Session() as sess:\n",
    "    sess.run(tf.global_variables_initializer())\n",
    "    saver.restore(sess, data_path + save_name)\n",
    "    test_dictionary = create_feed_dictionary(test_data, params)\n",
    "    tf_results = sess.run(tensorflow_run_tuple, feed_dict=test_dictionary)\n",
    "\n",
    "test_set_results = {}\n",
    "for i,key in enumerate(autoencoder_network.keys()):\n",
    "    test_set_results[key] = tf_results[i]"
   ]
  },
  {
   "cell_type": "code",
   "execution_count": null,
   "metadata": {},
   "outputs": [],
   "source": [
    "decoder_x_error = np.mean((test_data['x'] - test_set_results['x_decode'])**2)/np.mean(test_data['x']**2)\n",
    "decoder_dx_error = np.mean((test_data['dx'] - test_set_results['dx_decode'])**2)/np.mean(test_data['dx']**2)\n",
    "sindy_dz_error = np.mean((test_set_results['dz'] - test_set_results['dz_predict'])**2)/np.mean(test_set_results['dz']**2)\n",
    "\n",
    "print('Decoder relative error: %f' % decoder_x_error)\n",
    "print('Decoder relative SINDy error: %f' % decoder_dx_error)\n",
    "print('SINDy reltive error, z: %f' % sindy_dz_error)"
   ]
  },
  {
   "cell_type": "code",
   "execution_count": null,
   "metadata": {},
   "outputs": [],
   "source": [
    "for ic in range(9):\n",
    "    idxs = np.arange(ic*250,(ic+1)*250)\n",
    "    \n",
    "    z_sim = sindy_simulate(test_set_results['z'][250*ic], test_data['t'],\n",
    "                           params['coefficient_mask']*test_set_results['sindy_coefficients'],\n",
    "                           params['poly_order'], params['include_sine'])\n",
    "    \n",
    "    col_idx = ic % 3\n",
    "    \n",
    "    if ic % 3 == 0:\n",
    "        plt.figure(figsize=(11,3))\n",
    "    for i in range(3):\n",
    "        row_idx = i\n",
    "        subplot_idx = 3*row_idx + col_idx + 1\n",
    "        plt.subplot(3,3,subplot_idx)\n",
    "        plt.plot(test_data['t'], test_set_results['z'][idxs,i], color='#888888', linewidth=2)\n",
    "        plt.plot(test_data['t'], z_sim[:,i], '--', linewidth=2)\n",
    "        plt.xticks([])\n",
    "        plt.yticks([])\n",
    "#         plt.ylim(ylims[i])\n",
    "        plt.axis('off')"
   ]
  },
  {
   "cell_type": "markdown",
   "metadata": {},
   "source": [
    "## Test set analysis - out of distribution"
   ]
  },
  {
   "cell_type": "code",
   "execution_count": null,
   "metadata": {},
   "outputs": [],
   "source": [
    "inDist_ic_widths = np.array([36,48,41])\n",
    "outDist_extra_width = np.array([18,24,20])\n",
    "full_width = inDist_ic_widths + outDist_extra_width\n",
    "\n",
    "t = np.arange(0, 5, .02)\n",
    "n_ics = 100\n",
    "\n",
    "i = 0\n",
    "ics = np.zeros((n_ics,3))\n",
    "while i < n_ics:\n",
    "    \n",
    "    ic = np.array([np.random.uniform(-full_width[0],full_width[0]),\n",
    "                   np.random.uniform(-full_width[1],full_width[1]),\n",
    "                   np.random.uniform(-full_width[2],full_width[2]) + 25])\n",
    "    if ((ic[0] > -inDist_ic_widths[0]) and (ic[0] < inDist_ic_widths[0])) \\\n",
    "        and ((ic[1] > -inDist_ic_widths[1]) and (ic[1] < inDist_ic_widths[1])) \\\n",
    "        and ((ic[2] > 25-inDist_ic_widths[2]) and (ic[2] < 25+inDist_ic_widths[2])):\n",
    "        continue\n",
    "    else:\n",
    "        ics[i] = ic\n",
    "        i += 1\n",
    "        \n",
    "noise_strength = 1e-6\n",
    "\n",
    "# training test_data\n",
    "test_data = generate_lorenz_data(ics, t, params['input_dim'], linear=False, normalization=np.array([1/40,1/40,1/40]))\n",
    "test_data['x'] = test_data['x'].reshape((-1,params['input_dim']))\n",
    "test_data['x'] += noise_strength*np.random.normal(size=test_data['x'].shape)\n",
    "test_data['dx'] = test_data['dx'].reshape((-1,params['input_dim']))\n",
    "test_data['dx'] += noise_strength*np.random.normal(size=test_data['dx'].shape)"
   ]
  },
  {
   "cell_type": "code",
   "execution_count": null,
   "metadata": {},
   "outputs": [],
   "source": [
    "with tf.Session() as sess:\n",
    "    sess.run(tf.global_variables_initializer())\n",
    "    saver.restore(sess, data_path + save_name)\n",
    "    test_dictionary = create_feed_dictionary(test_data, params)\n",
    "    tf_results = sess.run(tensorflow_run_tuple, feed_dict=test_dictionary)\n",
    "\n",
    "test_set_results = {}\n",
    "for i,key in enumerate(autoencoder_network.keys()):\n",
    "    test_set_results[key] = tf_results[i]"
   ]
  },
  {
   "cell_type": "code",
   "execution_count": null,
   "metadata": {},
   "outputs": [],
   "source": [
    "decoder_x_error = np.mean((test_data['x'] - test_set_results['x_decode'])**2)/np.mean(test_data['x']**2)\n",
    "decoder_dx_error = np.mean((test_data['dx'] - test_set_results['dx_decode'])**2)/np.mean(test_data['dx']**2)\n",
    "sindy_dz_error = np.mean((test_set_results['dz'] - test_set_results['dz_predict'])**2)/np.mean(test_set_results['dz']**2)\n",
    "\n",
    "print('Decoder relative error: %f' % decoder_x_error)\n",
    "print('Decoder relative SINDy error: %f' % decoder_dx_error)\n",
    "print('SINDy reltive error, z: %f' % sindy_dz_error)"
   ]
  },
  {
   "cell_type": "code",
   "execution_count": null,
   "metadata": {},
   "outputs": [],
   "source": [
    "for ic in range(9):\n",
    "    idxs = np.arange(ic*250,(ic+1)*250)\n",
    "    \n",
    "    z_sim = sindy_simulate(test_set_results['z'][250*ic], test_data['t'],\n",
    "                           params['coefficient_mask']*test_set_results['sindy_coefficients'],\n",
    "                           params['poly_order'], params['include_sine'])\n",
    "    \n",
    "    col_idx = ic % 3\n",
    "    \n",
    "    if ic % 3 == 0:\n",
    "        plt.figure(figsize=(11,3))\n",
    "    for i in range(3):\n",
    "        row_idx = i\n",
    "        subplot_idx = 3*row_idx + col_idx + 1\n",
    "        plt.subplot(3,3,subplot_idx)\n",
    "        plt.plot(test_data['t'], test_set_results['z'][idxs,i], color='#888888', linewidth=2)\n",
    "        plt.plot(test_data['t'], z_sim[:,i], '--', linewidth=2)\n",
    "        plt.xticks([])\n",
    "        plt.yticks([])\n",
    "#         plt.ylim(ylims[i])\n",
    "        plt.axis('off')"
   ]
  },
  {
   "cell_type": "code",
   "execution_count": null,
   "metadata": {},
   "outputs": [],
   "source": []
  },
  {
   "cell_type": "code",
   "execution_count": null,
   "metadata": {
    "jupyter": {
     "source_hidden": true
    }
   },
   "outputs": [],
   "source": []
  }
 ],
 "metadata": {
  "kernelspec": {
   "display_name": "py_37_env",
   "language": "python",
   "name": "py_37_env"
  },
  "language_info": {
   "codemirror_mode": {
    "name": "ipython",
    "version": 3
   },
   "file_extension": ".py",
   "mimetype": "text/x-python",
   "name": "python",
   "nbconvert_exporter": "python",
   "pygments_lexer": "ipython3",
   "version": "3.7.7"
  },
  "toc": {
   "base_numbering": 1,
   "nav_menu": {},
   "number_sections": true,
   "sideBar": true,
   "skip_h1_title": false,
   "title_cell": "Table of Contents",
   "title_sidebar": "Contents",
   "toc_cell": false,
   "toc_position": {},
   "toc_section_display": true,
   "toc_window_display": false
  },
  "varInspector": {
   "cols": {
    "lenName": 16,
    "lenType": 16,
    "lenVar": 40
   },
   "kernels_config": {
    "python": {
     "delete_cmd_postfix": "",
     "delete_cmd_prefix": "del ",
     "library": "var_list.py",
     "varRefreshCmd": "print(var_dic_list())"
    },
    "r": {
     "delete_cmd_postfix": ") ",
     "delete_cmd_prefix": "rm(",
     "library": "var_list.r",
     "varRefreshCmd": "cat(var_dic_list()) "
    }
   },
   "types_to_exclude": [
    "module",
    "function",
    "builtin_function_or_method",
    "instance",
    "_Feature"
   ],
   "window_display": false
  }
 },
 "nbformat": 4,
 "nbformat_minor": 4
}
